{
  "nbformat": 4,
  "nbformat_minor": 0,
  "metadata": {
    "colab": {
      "name": "IMC.ipynb",
      "provenance": [],
      "authorship_tag": "ABX9TyMisk0ZurZzv9rougUusRbO",
      "include_colab_link": true
    },
    "kernelspec": {
      "name": "python3",
      "display_name": "Python 3"
    },
    "language_info": {
      "name": "python"
    }
  },
  "cells": [
    {
      "cell_type": "markdown",
      "metadata": {
        "id": "view-in-github",
        "colab_type": "text"
      },
      "source": [
        "<a href=\"https://colab.research.google.com/github/JosueAstudillo/POO_Astudillo/blob/main/IMC.ipynb\" target=\"_parent\"><img src=\"https://colab.research.google.com/assets/colab-badge.svg\" alt=\"Open In Colab\"/></a>"
      ]
    },
    {
      "cell_type": "markdown",
      "source": [
        "# Indice de Masa Corporal\n",
        "# Josue Astudillo "
      ],
      "metadata": {
        "id": "1frR3Nxco_cK"
      }
    },
    {
      "cell_type": "code",
      "source": [
        "#@title Calcular IMC { run: \"auto\" }\n",
        "Peso = 58 #@param {type:\"number\"}\n",
        "Talla = 1 #@param {type:\"integer\"}\n",
        "imc=Peso/(Talla*Talla)\n",
        "print(imc)\n"
      ],
      "metadata": {
        "colab": {
          "base_uri": "https://localhost:8080/"
        },
        "id": "wOqdTMadp7yb",
        "outputId": "b7c28d2d-d99c-4d04-fa8a-4df0790fabba"
      },
      "execution_count": 15,
      "outputs": [
        {
          "output_type": "stream",
          "name": "stdout",
          "text": [
            "58.0\n"
          ]
        }
      ]
    }
  ]
}